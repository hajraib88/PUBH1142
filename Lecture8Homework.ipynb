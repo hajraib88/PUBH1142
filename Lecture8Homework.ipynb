{
 "cells": [
  {
   "cell_type": "markdown",
   "metadata": {},
   "source": [
    "## Quiz Questions : Homework 8"
   ]
  },
  {
   "cell_type": "markdown",
   "metadata": {},
   "source": [
    "#### 1. How do you import the pandas library in Python?"
   ]
  },
  {
   "cell_type": "code",
   "execution_count": 10,
   "metadata": {},
   "outputs": [],
   "source": [
    "import pandas as pd"
   ]
  },
  {
   "cell_type": "markdown",
   "metadata": {},
   "source": [
    "#### 2. How do you read a CSV file named data.csv into a pandas Dataframe?"
   ]
  },
  {
   "cell_type": "code",
   "execution_count": 11,
   "metadata": {},
   "outputs": [],
   "source": [
    "df = pd.read_csv('data.csv')"
   ]
  },
  {
   "cell_type": "code",
   "execution_count": 12,
   "metadata": {},
   "outputs": [
    {
     "data": {
      "text/plain": [
       "pandas.core.frame.DataFrame"
      ]
     },
     "execution_count": 12,
     "metadata": {},
     "output_type": "execute_result"
    }
   ],
   "source": [
    "type(df)"
   ]
  },
  {
   "cell_type": "markdown",
   "metadata": {},
   "source": [
    "#### 3. How do you display the first 5 rows of a DataFrame named df?"
   ]
  },
  {
   "cell_type": "code",
   "execution_count": 13,
   "metadata": {},
   "outputs": [
    {
     "data": {
      "text/html": [
       "<div>\n",
       "<style scoped>\n",
       "    .dataframe tbody tr th:only-of-type {\n",
       "        vertical-align: middle;\n",
       "    }\n",
       "\n",
       "    .dataframe tbody tr th {\n",
       "        vertical-align: top;\n",
       "    }\n",
       "\n",
       "    .dataframe thead th {\n",
       "        text-align: right;\n",
       "    }\n",
       "</style>\n",
       "<table border=\"1\" class=\"dataframe\">\n",
       "  <thead>\n",
       "    <tr style=\"text-align: right;\">\n",
       "      <th></th>\n",
       "      <th>{\"payload\":{\"allShortcutsEnabled\":false</th>\n",
       "      <th>fileTree:{\"\":{\"items\":[{\"name\":\"Australia.csv\"</th>\n",
       "      <th>path:\"Australia.csv\"</th>\n",
       "      <th>contentType:\"file\"}</th>\n",
       "      <th>{\"name\":\"BaldIHDAge.csv\"</th>\n",
       "      <th>path:\"BaldIHDAge.csv\"</th>\n",
       "      <th>contentType:\"file\"}.1</th>\n",
       "      <th>{\"name\":\"Cervical.csv\"</th>\n",
       "      <th>path:\"Cervical.csv\"</th>\n",
       "      <th>contentType:\"file\"}.2</th>\n",
       "      <th>...</th>\n",
       "      <th>viewable:true</th>\n",
       "      <th>workflowRedirectUrl:null</th>\n",
       "      <th>symbols:{\"timed_out\":false</th>\n",
       "      <th>not_analyzed:true</th>\n",
       "      <th>symbols:[]}}</th>\n",
       "      <th>copilotInfo:null</th>\n",
       "      <th>copilotAccessAllowed:false</th>\n",
       "      <th>csrf_tokens:{\"/juanklopper/TutorialData/branches\":{\"post\":\"dlvCWb90hXogFlcNST0J5R4T95cWFFow7QmdcJgLJfxuBoitwVilVWsYyytK113wMH38tJHze30m1upmXReXcA\"}</th>\n",
       "      <th>/repos/preferences:{\"post\":\"1cENejFo3ik5VfxzHZRsiOdCLyRHDHpwW3WdWLAf8mQx9xDnewGOCjquedxaBC-9NkJ8eHGwAB3S2HQ4YcCgEA\"}}}</th>\n",
       "      <th>title:\"TutorialData/data.csv at main · juanklopper/TutorialData\"}</th>\n",
       "    </tr>\n",
       "  </thead>\n",
       "  <tbody>\n",
       "  </tbody>\n",
       "</table>\n",
       "<p>0 rows × 2894 columns</p>\n",
       "</div>"
      ],
      "text/plain": [
       "Empty DataFrame\n",
       "Columns: [{\"payload\":{\"allShortcutsEnabled\":false, fileTree:{\"\":{\"items\":[{\"name\":\"Australia.csv\", path:\"Australia.csv\", contentType:\"file\"}, {\"name\":\"BaldIHDAge.csv\", path:\"BaldIHDAge.csv\", contentType:\"file\"}.1, {\"name\":\"Cervical.csv\", path:\"Cervical.csv\", contentType:\"file\"}.2, {\"name\":\"ChronicConditionsPrivateInsurance.csv\", path:\"ChronicConditionsPrivateInsurance.csv\", contentType:\"file\"}.3, {\"name\":\"Complications_Mat.csv\", path:\"Complications_Mat.csv\", contentType:\"file\"}.4, {\"name\":\"DatesTimes.csv\", path:\"DatesTimes.csv\", contentType:\"file\"}.5, {\"name\":\"DefaultMissingData.csv\", path:\"DefaultMissingData.csv\", contentType:\"file\"}.6, {\"name\":\"HealthCost.csv\", path:\"HealthCost.csv\", contentType:\"file\"}.7, {\"name\":\"ICU_Mortality.csv\", path:\"ICU_Mortality.csv\", contentType:\"file\"}.8, {\"name\":\"LICENSE\", path:\"LICENSE\", contentType:\"file\"}.9, {\"name\":\"MetricsOriginal.xlsx\", path:\"MetricsOriginal.xlsx\", contentType:\"file\"}.10, {\"name\":\"MissingData.csv\", path:\"MissingData.csv\", contentType:\"file\"}.11, {\"name\":\"PUBH1142Chap0801.csv\", path:\"PUBH1142Chap0801.csv\", contentType:\"file\"}.12, {\"name\":\"PerinatalComplications.csv\", path:\"PerinatalComplications.csv\", contentType:\"file\"}.13, {\"name\":\"README.md\", path:\"README.md\", contentType:\"file\"}.14, {\"name\":\"SBI.csv\", path:\"SBI.csv\", contentType:\"file\"}.15, {\"name\":\"SmokingCancer.csv\", path:\"SmokingCancer.csv\", contentType:\"file\"}.16, {\"name\":\"SmokingcancerOriginal.xlsx\", path:\"SmokingcancerOriginal.xlsx\", contentType:\"file\"}.17, {\"name\":\"TODAY_MERGED.csv\", path:\"TODAY_MERGED.csv\", contentType:\"file\"}.18, {\"name\":\"Wards.geojson\", path:\"Wards.geojson\", contentType:\"file\"}.19, {\"name\":\"arth_data.csv\", path:\"arth_data.csv\", contentType:\"file\"}.20, {\"name\":\"arth_data_full.csv\", path:\"arth_data_full.csv\", contentType:\"file\"}.21, {\"name\":\"bald_chd_data_file.csv\", path:\"bald_chd_data_file.csv\", contentType:\"file\"}.22, {\"name\":\"benign_data.csv\", path:\"benign_data.csv\", contentType:\"file\"}.23, {\"name\":\"bodyfat.csv\", path:\"bodyfat.csv\", contentType:\"file\"}.24, {\"name\":\"breast_cancer.csv\", path:\"breast_cancer.csv\", contentType:\"file\"}.25, {\"name\":\"campuscrime_data.csv\", path:\"campuscrime_data.csv\", contentType:\"file\"}.26, {\"name\":\"canine_dat_wide.csv\", path:\"canine_dat_wide.csv\", contentType:\"file\"}.27, {\"name\":\"crash.csv\", path:\"crash.csv\", contentType:\"file\"}.28, {\"name\":\"data.csv\", path:\"data.csv\", contentType:\"file\"}.29, {\"name\":\"death_data.csv\", path:\"death_data.csv\", contentType:\"file\"}.30, {\"name\":\"deposit_data.csv\", path:\"deposit_data.csv\", contentType:\"file\"}.31, {\"name\":\"ed_contra.csv\", path:\"ed_contra.csv\", contentType:\"file\"}.32, ...]\n",
       "Index: []\n",
       "\n",
       "[0 rows x 2894 columns]"
      ]
     },
     "execution_count": 13,
     "metadata": {},
     "output_type": "execute_result"
    }
   ],
   "source": [
    "df.head()"
   ]
  },
  {
   "cell_type": "markdown",
   "metadata": {},
   "source": [
    "#### 4. How do you find the number of rows and columns in a DataFrame df?"
   ]
  },
  {
   "cell_type": "code",
   "execution_count": 14,
   "metadata": {},
   "outputs": [
    {
     "data": {
      "text/plain": [
       "(0, 2894)"
      ]
     },
     "execution_count": 14,
     "metadata": {},
     "output_type": "execute_result"
    }
   ],
   "source": [
    "df.shape"
   ]
  },
  {
   "cell_type": "markdown",
   "metadata": {},
   "source": [
    "#### 5. How do you print the names of all columns in a DataFrame df?"
   ]
  },
  {
   "cell_type": "code",
   "execution_count": 15,
   "metadata": {},
   "outputs": [
    {
     "data": {
      "text/plain": [
       "Index(['{\"payload\":{\"allShortcutsEnabled\":false',\n",
       "       'fileTree:{\"\":{\"items\":[{\"name\":\"Australia.csv\"',\n",
       "       'path:\"Australia.csv\"', 'contentType:\"file\"}',\n",
       "       '{\"name\":\"BaldIHDAge.csv\"', 'path:\"BaldIHDAge.csv\"',\n",
       "       'contentType:\"file\"}.1', '{\"name\":\"Cervical.csv\"',\n",
       "       'path:\"Cervical.csv\"', 'contentType:\"file\"}.2',\n",
       "       ...\n",
       "       'viewable:true', 'workflowRedirectUrl:null',\n",
       "       'symbols:{\"timed_out\":false', 'not_analyzed:true', 'symbols:[]}}',\n",
       "       'copilotInfo:null', 'copilotAccessAllowed:false',\n",
       "       'csrf_tokens:{\"/juanklopper/TutorialData/branches\":{\"post\":\"dlvCWb90hXogFlcNST0J5R4T95cWFFow7QmdcJgLJfxuBoitwVilVWsYyytK113wMH38tJHze30m1upmXReXcA\"}',\n",
       "       '/repos/preferences:{\"post\":\"1cENejFo3ik5VfxzHZRsiOdCLyRHDHpwW3WdWLAf8mQx9xDnewGOCjquedxaBC-9NkJ8eHGwAB3S2HQ4YcCgEA\"}}}',\n",
       "       'title:\"TutorialData/data.csv at main · juanklopper/TutorialData\"}'],\n",
       "      dtype='object', length=2894)"
      ]
     },
     "execution_count": 15,
     "metadata": {},
     "output_type": "execute_result"
    }
   ],
   "source": [
    "df.columns"
   ]
  },
  {
   "cell_type": "markdown",
   "metadata": {},
   "source": [
    "##### 6. How do you get the summary information of the DataFrame df including data types and non-null values?"
   ]
  }
 ],
 "metadata": {
  "kernelspec": {
   "display_name": "healthdatscience",
   "language": "python",
   "name": "python3"
  },
  "language_info": {
   "codemirror_mode": {
    "name": "ipython",
    "version": 3
   },
   "file_extension": ".py",
   "mimetype": "text/x-python",
   "name": "python",
   "nbconvert_exporter": "python",
   "pygments_lexer": "ipython3",
   "version": "3.11.7"
  }
 },
 "nbformat": 4,
 "nbformat_minor": 2
}
